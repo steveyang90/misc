{
 "cells": [
  {
   "cell_type": "code",
   "execution_count": 1,
   "metadata": {},
   "outputs": [],
   "source": [
    "%matplotlib inline\n",
    "import numpy as np\n",
    "import pandas as pd\n",
    "import matplotlib.pyplot as plt"
   ]
  },
  {
   "cell_type": "markdown",
   "metadata": {},
   "source": [
    "## Create Data\n"
   ]
  },
  {
   "cell_type": "code",
   "execution_count": 2,
   "metadata": {},
   "outputs": [
    {
     "name": "stdout",
     "output_type": "stream",
     "text": [
      "(100,)\n"
     ]
    },
    {
     "data": {
      "text/plain": [
       "array([ 0.11492929,  0.76187799,  0.64315078,  0.91804014,  0.24344464,\n",
       "        0.70715954,  0.82738325,  0.9016149 ,  0.48657027,  0.23842796])"
      ]
     },
     "execution_count": 2,
     "metadata": {},
     "output_type": "execute_result"
    }
   ],
   "source": [
    "X = np.random.rand(100)\n",
    "print X.shape\n",
    "X[:10]"
   ]
  },
  {
   "cell_type": "code",
   "execution_count": 3,
   "metadata": {},
   "outputs": [
    {
     "name": "stdout",
     "output_type": "stream",
     "text": [
      "(100,)\n"
     ]
    },
    {
     "data": {
      "text/plain": [
       "array([  3.55236851,  12.92201646,  12.50722211,  13.18014046,\n",
       "         6.94343285,  11.64511025,  12.42002265,  12.92411234,\n",
       "         9.67308145,   8.48584245])"
      ]
     },
     "execution_count": 3,
     "metadata": {},
     "output_type": "execute_result"
    }
   ],
   "source": [
    "sigma = 1\n",
    "y = np.random.normal(5 + 9*X, sigma)\n",
    "print y.shape\n",
    "y[:10]"
   ]
  },
  {
   "cell_type": "markdown",
   "metadata": {},
   "source": [
    "## True model:  $y = 5 + 9x$\n",
    "\n",
    "- $\\alpha = 5$\n",
    "- $\\beta = 9$"
   ]
  },
  {
   "cell_type": "code",
   "execution_count": 4,
   "metadata": {},
   "outputs": [
    {
     "data": {
      "text/plain": [
       "[<matplotlib.lines.Line2D at 0x110ac2a10>]"
      ]
     },
     "execution_count": 4,
     "metadata": {},
     "output_type": "execute_result"
    },
    {
     "data": {
      "image/png": "[encoded data removed]",
      "text/plain": [
       "<matplotlib.figure.Figure at 0x110ac2610>"
      ]
     },
     "metadata": {},
     "output_type": "display_data"
    }
   ],
   "source": [
    "plt.plot(X, y, '.')\n",
    "plt.plot(X, 5 + 9*X, '-')"
   ]
  },
  {
   "cell_type": "markdown",
   "metadata": {},
   "source": [
    "## Cost Function\n",
    "Cost Function\n",
    "$$\\frac{1}{2N} \\sum_{i=1}^N{(Y_i - \\alpha - \\beta X_i)^2}$$\n",
    "\n",
    "Partial derivative with respect to $\\alpha$\n",
    "$$-\\frac{1}{N} \\sum_{i=1}^N{(Y_i - \\hat{Y_i})} $$\n",
    "\n",
    "Partial derivative with respect to $\\beta$\n",
    "$$-\\frac{1}{N} \\sum_{i=1}^N{(Y_i - \\hat{Y_i}) X_i} $$\n"
   ]
  },
  {
   "cell_type": "markdown",
   "metadata": {},
   "source": [
    "## $O(N)$ Gradient Descent\n",
    "\n",
    "Source: https://towardsdatascience.com/linear-regression-using-gradient-descent-in-10-lines-of-code-642f995339c0"
   ]
  },
  {
   "cell_type": "markdown",
   "metadata": {},
   "source": [
    "<b>Modified from the source above to use cost function from Async material</b>"
   ]
  },
  {
   "cell_type": "code",
   "execution_count": 5,
   "metadata": {},
   "outputs": [
    {
     "name": "stdout",
     "output_type": "stream",
     "text": [
      "alpha:  5.37098822423\n",
      "beta:  8.32551882916\n"
     ]
    }
   ],
   "source": [
    "epochs = 10000\n",
    "alpha = 0\n",
    "beta = 0\n",
    "learning_rate = 0.01\n",
    "\n",
    "N = len(y)\n",
    "for i in range(epochs):\n",
    "    y_hat = alpha + beta*X\n",
    "    cost = np.sum((1./2*N) * (y - y_hat)**2)\n",
    "    a_gradient = -(1./N) * np.sum(y - y_hat)\n",
    "    b_gradient = -(1./N) * np.sum(X * (y - y_hat))\n",
    "    alpha = alpha - (learning_rate * a_gradient)\n",
    "    beta = beta - (learning_rate * b_gradient)\n",
    "    \n",
    "print \"alpha: \", alpha\n",
    "print \"beta: \", beta"
   ]
  },
  {
   "cell_type": "markdown",
   "metadata": {},
   "source": [
    "## Iteration-by-Iteration\n",
    "\n",
    "<b>This is the above algorithm broken out step-by-step. Run this cell once to intialize and repeatedly run the next cell to see what's happening in each iteration"
   ]
  },
  {
   "cell_type": "code",
   "execution_count": 6,
   "metadata": {
    "collapsed": true
   },
   "outputs": [],
   "source": [
    "# initialize parameters\n",
    "epochs = 1000\n",
    "alpha = 0\n",
    "beta = 0\n",
    "learning_rate = 0.5"
   ]
  },
  {
   "cell_type": "markdown",
   "metadata": {},
   "source": [
    "<b>Run this cell as many times as you want to see what's happening in each iteration. Each time you run it is epochs += 1"
   ]
  },
  {
   "cell_type": "code",
   "execution_count": 18,
   "metadata": {},
   "outputs": [
    {
     "name": "stdout",
     "output_type": "stream",
     "text": [
      "alpha start:  6.96689625488\n",
      "beta start:  5.49429559786\n",
      "\n",
      "cost:  8366.00421386\n",
      "\n",
      "alpha gradient:  0.10009429689\n",
      "beta gradient:  -0.177792554629\n",
      "\n",
      "alpha update:  6.91684910643\n",
      "beta update:  5.58319187518\n"
     ]
    },
    {
     "data": {
      "text/plain": [
       "[<matplotlib.lines.Line2D at 0x118ec1210>]"
      ]
     },
     "execution_count": 18,
     "metadata": {},
     "output_type": "execute_result"
    },
    {
     "data": {
      "image/png": "[encoded data removed]",
      "text/plain": [
       "<matplotlib.figure.Figure at 0x11849dbd0>"
      ]
     },
     "metadata": {},
     "output_type": "display_data"
    }
   ],
   "source": [
    "print \"alpha start: \", alpha\n",
    "print \"beta start: \", beta\n",
    "print\n",
    "# \"loop\"\n",
    "y_hat = alpha + beta*X\n",
    "cost = np.sum((1./2*N) * (y - y_hat)**2)\n",
    "a_gradient = -(1./N) * np.sum(y - y_hat)\n",
    "b_gradient = -(1./N) * np.sum(X * (y - y_hat))\n",
    "alpha = alpha - (learning_rate * a_gradient)\n",
    "beta = beta - (learning_rate * b_gradient)\n",
    "\n",
    "print \"cost: \", cost\n",
    "print\n",
    "print \"alpha gradient: \", a_gradient\n",
    "print \"beta gradient: \", b_gradient\n",
    "print\n",
    "print \"alpha update: \", alpha\n",
    "print \"beta update: \", beta\n",
    "\n",
    "# plot estimate\n",
    "plt.plot(X, y, '.')\n",
    "plt.plot(X, alpha + beta*X, '-')"
   ]
  },
  {
   "cell_type": "code",
   "execution_count": null,
   "metadata": {
    "collapsed": true
   },
   "outputs": [],
   "source": []
  }
 ],
 "metadata": {
  "kernelspec": {
   "display_name": "Python 2",
   "language": "python",
   "name": "python2"
  },
  "language_info": {
   "codemirror_mode": {
    "name": "ipython",
    "version": 2
   },
   "file_extension": ".py",
   "mimetype": "text/x-python",
   "name": "python",
   "nbconvert_exporter": "python",
   "pygments_lexer": "ipython2",
   "version": "2.7.14"
  }
 },
 "nbformat": 4,
 "nbformat_minor": 2
}
